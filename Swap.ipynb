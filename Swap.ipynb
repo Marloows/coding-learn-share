{
 "cells": [
  {
   "cell_type": "markdown",
   "metadata": {},
   "source": [
    "# Swapping two variable\n"
   ]
  },
  {
   "cell_type": "markdown",
   "metadata": {},
   "source": [
    "## Basic-Swap"
   ]
  },
  {
   "cell_type": "markdown",
   "metadata": {},
   "source": [
    "the easiest algorithm to swap two variable usually reacquires a third variable to be a temporary container. (just like if have two cups of tea)"
   ]
  },
  {
   "cell_type": "code",
   "execution_count": 1,
   "metadata": {},
   "outputs": [
    {
     "name": "stdout",
     "output_type": "stream",
     "text": [
      "x = 1, y = 2\n",
      "\n",
      "___***-Swapping-***___\n",
      "\n",
      "x = 2, y = 1\n"
     ]
    }
   ],
   "source": [
    "x = 1\n",
    "y = 2\n",
    "\n",
    "print(f\"x = {x}, y = {y}\")\n",
    "\n",
    "print(\"\\n___***-Swapping-***___\\n\")\n",
    "\n",
    "tmp = x\t\t# saves the initial value of x\n",
    "\n",
    "x = y\n",
    "\n",
    "y = tmp\n",
    "\n",
    "print(f\"x = {x}, y = {y}\")"
   ]
  },
  {
   "cell_type": "markdown",
   "metadata": {},
   "source": [
    "---"
   ]
  },
  {
   "cell_type": "markdown",
   "metadata": {},
   "source": [
    "If one can just combine the value of the two variable in a way that you still can tell them apart somehow, one wouldn't need the third variable.\n",
    "<br>\n",
    "Such operations do exist and the exclusive-or is one of them."
   ]
  },
  {
   "cell_type": "markdown",
   "metadata": {},
   "source": [
    "## XOR-Swap"
   ]
  },
  {
   "cell_type": "markdown",
   "metadata": {},
   "source": [
    "XOR Logic Operator is only true if the value of the inputs differ from one another\n",
    "\n",
    "| A | B |AXB|\n",
    "|:-:|:-:|:-:|\n",
    "| 1 | 1 | 0 |\n",
    "| 1 | 0 | 1 |\n",
    "| 0 | 1 | 1 |\n",
    "| 0 | 0 | 0 |"
   ]
  },
  {
   "cell_type": "markdown",
   "metadata": {},
   "source": [
    "if I know the value of B and result of A-XOR-B then I can figure out what A was by applying the xor operator on B and AXB\n",
    "\n",
    " B |AXB| A\n",
    ":-:|:-:|:-:\n",
    " 1 | 0 | 1\n",
    " 0 | 1 | 1\n",
    " 1 | 1 | 0\n",
    " 0 | 0 | 0\n",
    "\n",
    "That works too if you have the value of A and wants the value of B\n",
    "<br>\n",
    "That means AXB is now holding the value of A and B at the same time"
   ]
  },
  {
   "cell_type": "code",
   "execution_count": 2,
   "metadata": {},
   "outputs": [
    {
     "name": "stdout",
     "output_type": "stream",
     "text": [
      "A = True, B = False\n",
      "\n",
      "___***-Swapping-***___\n",
      "\n",
      "A = False, B = True\n"
     ]
    }
   ],
   "source": [
    "# xor operator in python is ^\n",
    "# order shouldn't matter A^B is the same as B^A\n",
    "\n",
    "A = True\n",
    "B = False\n",
    "\n",
    "print(f\"A = {A}, B = {B}\")\n",
    "\n",
    "print(\"\\n___***-Swapping-***___\\n\")\n",
    "\n",
    "A = A^B\t\t# A is now holding both values of A and B\n",
    "\n",
    "B = B^A\t\t# extracting the original value of A from A-xor-B using B\n",
    "\n",
    "# now B contains the original value A while A has the value of A-xor-B\n",
    "\n",
    "A = A^B\t\t# extracting the original value of B from A-xor-B using the original value A Which is now transferred to B\n",
    "\n",
    "print(f\"A = {A}, B = {B}\")"
   ]
  },
  {
   "cell_type": "markdown",
   "metadata": {},
   "source": [
    "The-Same-Thing-Basically\n",
    "```python\n",
    "A^=B\n",
    "B^=A\n",
    "A^=B\n",
    "```"
   ]
  },
  {
   "cell_type": "markdown",
   "metadata": {},
   "source": [
    "While with some modifications we can use the xor to swap integers.\n",
    "<br>\n",
    "Using arithmetic addition/subtraction we already can swap two variable without needing a third one."
   ]
  },
  {
   "cell_type": "markdown",
   "metadata": {},
   "source": [
    "## Arithmetic-Swap"
   ]
  },
  {
   "cell_type": "markdown",
   "metadata": {},
   "source": [
    "Same as before we need for one of the variable too take a value that hides/combine both of the values at the same time."
   ]
  },
  {
   "cell_type": "code",
   "execution_count": 3,
   "metadata": {},
   "outputs": [
    {
     "name": "stdout",
     "output_type": "stream",
     "text": [
      "x = 7, y = -15\n",
      "\n",
      "___***-Swapping-***___\n",
      "\n",
      "x = -15, y = 7\n"
     ]
    }
   ],
   "source": [
    "x = 7\n",
    "y = -15\n",
    "\n",
    "print(f\"x = {x}, y = {y}\")\n",
    "\n",
    "print(\"\\n___***-Swapping-***___\\n\")\n",
    "\n",
    "x = x - y\n",
    "\n",
    "y = y + x\n",
    "# substituting the value of x form the above\n",
    "# we can write the right-side\n",
    "# in original values of x and y \"y + (x - y)\"\n",
    "\n",
    "x = y - x\n",
    "# Because that y is now holding the original value of x\n",
    "# we can write the right-side\n",
    "# in original values of x and y \"x - (x - y)\"\n",
    "\n",
    "print(f\"x = {x}, y = {y}\")"
   ]
  },
  {
   "cell_type": "markdown",
   "metadata": {},
   "source": [
    "We could achieve the same goal by changing the arithmetic operatoins a bit"
   ]
  },
  {
   "cell_type": "code",
   "execution_count": 4,
   "metadata": {},
   "outputs": [
    {
     "name": "stdout",
     "output_type": "stream",
     "text": [
      "x = -12, y = 5\n",
      "\n",
      "___***-Swapping-***___\n",
      "\n",
      "x = 5, y = -12\n"
     ]
    }
   ],
   "source": [
    "x = -12\n",
    "y = 5\n",
    "\n",
    "print(f\"x = {x}, y = {y}\")\n",
    "\n",
    "print(\"\\n___***-Swapping-***___\\n\")\n",
    "\n",
    "x = x + y\n",
    "\n",
    "y = x - y\n",
    "\n",
    "x = x - y\n",
    "\n",
    "print(f\"x = {x}, y = {y}\")"
   ]
  },
  {
   "cell_type": "markdown",
   "metadata": {},
   "source": [
    "\\* Theoretically, it should be possible to use multiplication and division to swap two variables.\n",
    "<br>\n",
    "<br>\n",
    "Like this:\n",
    "```py\n",
    "x = x*y\n",
    "y = x/y\n",
    "x = x/y\n",
    "```\n",
    "Or like this:\n",
    "```py\n",
    "x = x/y\n",
    "y = x*y\n",
    "x = y/x\n",
    "```\n",
    "<br>\n",
    "But due to machine limitations, it's not possible because division is just an approximation most of the time."
   ]
  },
  {
   "cell_type": "markdown",
   "metadata": {},
   "source": [
    "----"
   ]
  },
  {
   "cell_type": "markdown",
   "metadata": {},
   "source": [
    "<p>\n",
    "In general it doesn't matter what operation you chose.\n",
    "<br>\n",
    "But once we chose the first operation we need to stick with it and figure out the order of the rest\n",
    "<br>\n",
    "It helps to keep track of the original values and the current values of the variables\n",
    "</p>"
   ]
  },
  {
   "cell_type": "markdown",
   "metadata": {},
   "source": [
    "Let's say we want to swap $x$ and $y$\n",
    "Lowercase represent the original value and uppercase $X$ and $Y$ represent the current value of the variable  \n",
    "If we chose the addition operation as a way to combine and hold the value of $x$ and $y$"
   ]
  },
  {
   "cell_type": "markdown",
   "metadata": {},
   "source": [
    "<p>\n",
    "    let's say we chose this operation\n",
    "    <br><br>\n",
    "    $X = y - x$\n",
    "    <br><br>\n",
    "    Now only using $X$ and $y$ we need to change $Y$ so it holds the value of $x$\n",
    "    <br><br>\n",
    "    $Y = y - X = y - (y - x) = y - y + x = x$\n",
    "    <br><br>\n",
    "    We want to change the value of $X$ so ist hold the value $y$\n",
    "    <br>\n",
    "    Again we only have access to $X$ and $Y$\n",
    "    <br>\n",
    "    We will call the new value $\\dot X$\n",
    "    <br><br>\n",
    "    $\\dot X = X + Y = (y - x) + (x) = y$\n",
    "    <br><br>\n",
    "</p>"
   ]
  },
  {
   "cell_type": "markdown",
   "metadata": {},
   "source": [
    "In Python Code\n",
    "```py\n",
    "x = y - x\n",
    "y = y - x\n",
    "x = x + y\n",
    "```\n",
    "Pro-Code\n",
    "```py\n",
    "x = y - x\n",
    "y-=x\n",
    "x+=y\n",
    "```"
   ]
  },
  {
   "cell_type": "markdown",
   "metadata": {},
   "source": [
    "### In Python you actually can swap variables in on line.\n",
    "<br>\n",
    "Python support parallel assignment one-line multiple variables/values assignment.\n",
    "<br>\n",
    "The python-interpreter create two \"tuple\" right and left of the equals sign and match the two"
   ]
  },
  {
   "cell_type": "code",
   "execution_count": 5,
   "metadata": {},
   "outputs": [
    {
     "name": "stdout",
     "output_type": "stream",
     "text": [
      "x = 1, y = 2\n",
      "\n",
      "___***-Swapping-***___\n",
      "\n",
      "x = 2, y = 1\n"
     ]
    }
   ],
   "source": [
    "x, y = 1, 2\t\t#right side assigned to left\n",
    "\n",
    "print(f\"x = {x}, y = {y}\")\n",
    "\n",
    "print(\"\\n___***-Swapping-***___\\n\")\n",
    "\n",
    "x, y = y, x\n",
    "\n",
    "print(f\"x = {x}, y = {y}\")"
   ]
  },
  {
   "cell_type": "markdown",
   "metadata": {},
   "source": [
    "Python multi-variable-value-assignment\n",
    "<br>\n",
    "This could go wrong if the numbers of variable on each side doesn't match but it's still cool thing to learn in python"
   ]
  },
  {
   "cell_type": "code",
   "execution_count": 6,
   "metadata": {},
   "outputs": [
    {
     "name": "stdout",
     "output_type": "stream",
     "text": [
      "x = (1, 2, 3, 4, 5)\n"
     ]
    }
   ],
   "source": [
    "x = 1, 2, 3, 4, 5\t# x is gonna become a tuple containing these values\n",
    "print(f\"x = {x}\")"
   ]
  },
  {
   "cell_type": "code",
   "execution_count": 7,
   "metadata": {},
   "outputs": [
    {
     "name": "stdout",
     "output_type": "stream",
     "text": [
      "x = 1, y = [2, 3, 4]\n"
     ]
    }
   ],
   "source": [
    "x, *y = 1, 2, 3, 4\t\t# x will get one element and the rest will go to y\n",
    "print(f\"x = {x}, y = {y}\")"
   ]
  },
  {
   "cell_type": "code",
   "execution_count": 8,
   "metadata": {},
   "outputs": [
    {
     "name": "stdout",
     "output_type": "stream",
     "text": [
      "x = 1, y = 2, z = [3, 4, 5, 6]\n"
     ]
    }
   ],
   "source": [
    "A = [1, 2, 3, 4, 5, 6]\n",
    "x, y, *z = *A,\t# unpacks A as if you wrote 1, 2... # the comma is important too\n",
    "print(f\"x = {x}, y = {y}, z = {z}\")"
   ]
  }
 ],
 "metadata": {
  "interpreter": {
   "hash": "bddb6c94227d8177e61600db041b4cc1c87a884063126e29a3bfd540ed5196fb"
  },
  "kernelspec": {
   "display_name": "Python 3",
   "language": "python",
   "name": "python3"
  },
  "language_info": {
   "codemirror_mode": {
    "name": "ipython",
    "version": 3
   },
   "file_extension": ".py",
   "mimetype": "text/x-python",
   "name": "python",
   "nbconvert_exporter": "python",
   "pygments_lexer": "ipython3",
   "version": "3.8.3"
  }
 },
 "nbformat": 4,
 "nbformat_minor": 2
}
